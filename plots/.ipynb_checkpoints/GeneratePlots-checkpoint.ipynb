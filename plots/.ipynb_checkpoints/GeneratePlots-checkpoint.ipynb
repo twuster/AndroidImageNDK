{
 "cells": [
  {
   "cell_type": "code",
   "execution_count": null,
   "metadata": {
    "collapsed": true
   },
   "outputs": [],
   "source": [
    "#!/usr/bin/env python\n",
    "# a bar plot with errorbars\n",
    "import numpy as np\n",
    "import matplotlib.pyplot as plt"
   ]
  },
  {
   "cell_type": "code",
   "execution_count": 20,
   "metadata": {
    "collapsed": false
   },
   "outputs": [],
   "source": [
    "N = 3\n",
    "naiveMeans = (91, 357, 100)\n",
    "\n",
    "ind = np.arange(N)  # the x locations for the groups\n",
    "width = 0.35       # the width of the bars\n",
    "\n",
    "fig, ax = plt.subplots()\n",
    "rects1 = ax.bar(ind, naiveMeans, width, color='b')\n",
    "\n",
    "parallelMeans = (32, 177, 100)\n",
    "rects2 = ax.bar(ind+width, parallelMeans, width, color='y')\n",
    "\n",
    "# add some text for labels, title and axes ticks\n",
    "ax.set_ylabel('Time in milliseconds')\n",
    "ax.set_ylim([0,1200])\n",
    "ax.set_xlabel('Image manipulation algorithm')\n",
    "ax.set_title('Samsung S6 Image Manipulation Benchmarks')\n",
    "ax.set_xticks(ind+width)\n",
    "ax.set_xticklabels( ('Convert to Gray', 'Generate Edges', 'Predict Digit') )\n",
    "\n",
    "ax.legend( (rects1[0], rects2[0]), ('Naive', 'Parallel') )\n",
    "\n",
    "def autolabel(rects):\n",
    "    # attach some text labels\n",
    "    for rect in rects:\n",
    "        height = rect.get_height()\n",
    "        ax.text(rect.get_x()+rect.get_width()/2., 1.05*height, '%d'%int(height),\n",
    "                ha='center', va='bottom')\n",
    "\n",
    "autolabel(rects1)\n",
    "autolabel(rects2)\n",
    "\n",
    "plt.show()"
   ]
  },
  {
   "cell_type": "code",
   "execution_count": 21,
   "metadata": {
    "collapsed": true
   },
   "outputs": [],
   "source": [
    "N = 3\n",
    "naiveMeans = (153, 1327, 100)\n",
    "\n",
    "ind = np.arange(N)  # the x locations for the groups\n",
    "width = 0.35       # the width of the bars\n",
    "\n",
    "fig, ax = plt.subplots()\n",
    "rects1 = ax.bar(ind, naiveMeans, width, color='b')\n",
    "\n",
    "parallelMeans = (59, 829, 100)\n",
    "rects2 = ax.bar(ind+width, parallelMeans, width, color='y')\n",
    "\n",
    "# add some text for labels, title and axes ticks\n",
    "ax.set_ylabel('Time in milliseconds')\n",
    "ax.set_ylim([0,1200])\n",
    "ax.set_xlabel('Image manipulation algorithm')\n",
    "ax.set_title('Nexus 5 Image Manipulation Benchmarks')\n",
    "ax.set_xticks(ind+width)\n",
    "ax.set_xticklabels( ('Convert to Gray', 'Generate Edges', 'Predict Digit') )\n",
    "\n",
    "ax.legend( (rects1[0], rects2[0]), ('Naive', 'Parallel') )\n",
    "\n",
    "def autolabel(rects):\n",
    "    # attach some text labels\n",
    "    for rect in rects:\n",
    "        height = rect.get_height()\n",
    "        ax.text(rect.get_x()+rect.get_width()/2., 1.05*height, '%d'%int(height),\n",
    "                ha='center', va='bottom')\n",
    "\n",
    "autolabel(rects1)\n",
    "autolabel(rects2)\n",
    "\n",
    "plt.show()"
   ]
  },
  {
   "cell_type": "code",
   "execution_count": 22,
   "metadata": {
    "collapsed": false
   },
   "outputs": [],
   "source": [
    "N = 3\n",
    "naiveMeans = (196, 1092, 100)\n",
    "\n",
    "ind = np.arange(N)  # the x locations for the groups\n",
    "width = 0.35       # the width of the bars\n",
    "\n",
    "fig, ax = plt.subplots()\n",
    "rects1 = ax.bar(ind, naiveMeans, width, color='b')\n",
    "\n",
    "parallelMeans = (127, 1058, 100)\n",
    "rects2 = ax.bar(ind+width, parallelMeans, width, color='y')\n",
    "\n",
    "# add some text for labels, title and axes ticks\n",
    "ax.set_ylabel('Time in milliseconds')\n",
    "ax.set_ylim([0,1200])\n",
    "ax.set_xlabel('Image manipulation algorithm')\n",
    "ax.set_title('Moto X Image Manipulation Benchmarks')\n",
    "ax.set_xticks(ind+width)\n",
    "ax.set_xticklabels( ('Convert to Gray', 'Generate Edges', 'Predict Digit') )\n",
    "\n",
    "ax.legend( (rects1[0], rects2[0]), ('Naive', 'Parallel') )\n",
    "\n",
    "def autolabel(rects):\n",
    "    # attach some text labels\n",
    "    for rect in rects:\n",
    "        height = rect.get_height()\n",
    "        ax.text(rect.get_x()+rect.get_width()/2., 1.05*height, '%d'%int(height),\n",
    "                ha='center', va='bottom')\n",
    "\n",
    "autolabel(rects1)\n",
    "autolabel(rects2)\n",
    "\n",
    "plt.show()"
   ]
  },
  {
   "cell_type": "code",
   "execution_count": null,
   "metadata": {
    "collapsed": true
   },
   "outputs": [],
   "source": []
  },
  {
   "cell_type": "code",
   "execution_count": null,
   "metadata": {
    "collapsed": true
   },
   "outputs": [],
   "source": []
  }
 ],
 "metadata": {
  "kernelspec": {
   "display_name": "Python 2",
   "language": "python",
   "name": "python2"
  },
  "language_info": {
   "codemirror_mode": {
    "name": "ipython",
    "version": 2
   },
   "file_extension": ".py",
   "mimetype": "text/x-python",
   "name": "python",
   "nbconvert_exporter": "python",
   "pygments_lexer": "ipython2",
   "version": "2.7.6"
  }
 },
 "nbformat": 4,
 "nbformat_minor": 0
}
